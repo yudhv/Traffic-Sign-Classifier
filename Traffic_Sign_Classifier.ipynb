{
 "cells": [
  {
   "cell_type": "markdown",
   "metadata": {},
   "source": [
    "# Self-Driving Car Engineer Nanodegree\n",
    "\n",
    "## Deep Learning\n",
    "\n",
    "## Project: Build a Traffic Sign Recognition Classifier\n",
    "\n",
    "In this notebook, a template is provided for you to implement your functionality in stages which is required to successfully complete this project. If additional code is required that cannot be included in the notebook, be sure that the Python code is successfully imported and included in your submission, if necessary. Sections that begin with **'Implementation'** in the header indicate where you should begin your implementation for your project. Note that some sections of implementation are optional, and will be marked with **'Optional'** in the header.\n",
    "\n",
    "In addition to implementing code, there will be questions that you must answer which relate to the project and your implementation. Each section where you will answer a question is preceded by a **'Question'** header. Carefully read each question and provide thorough answers in the following text boxes that begin with **'Answer:'**. Your project submission will be evaluated based on your answers to each of the questions and the implementation you provide.\n",
    "\n",
    ">**Note:** Code and Markdown cells can be executed using the **Shift + Enter** keyboard shortcut. In addition, Markdown cells can be edited by typically double-clicking the cell to enter edit mode."
   ]
  },
  {
   "cell_type": "markdown",
   "metadata": {},
   "source": [
    "---\n",
    "## Step 0: Load The Data"
   ]
  },
  {
   "cell_type": "code",
   "execution_count": 1,
   "metadata": {
    "collapsed": false
   },
   "outputs": [
    {
     "name": "stdout",
     "output_type": "stream",
     "text": [
      "Shape of original training data  (39209, 32, 32, 3) (39209,)\n",
      "Shape of original testing data  (12630, 32, 32, 3) (12630,)\n"
     ]
    }
   ],
   "source": [
    "import pickle\n",
    "import time\n",
    "import os\n",
    "\n",
    "# Load datasets from storage\n",
    "training_file = \"train.p\"\n",
    "testing_file = \"test.p\"\n",
    "logs_path = os.getcwd()+'/tmp/tensorflow_logs/example'\n",
    "\n",
    "with open(training_file, mode='rb') as f:\n",
    "    train = pickle.load(f)\n",
    "with open(testing_file, mode='rb') as f:\n",
    "    test = pickle.load(f)\n",
    "    \n",
    "X_train, y_train = train['features'], train['labels']\n",
    "X_test, y_test = test['features'], test['labels']\n",
    "print(\"Shape of original training data \",X_train.shape, y_train.shape)\n",
    "print(\"Shape of original testing data \",X_test.shape, y_test.shape)"
   ]
  },
  {
   "cell_type": "markdown",
   "metadata": {},
   "source": [
    "---\n",
    "\n",
    "## Step 1: Dataset Summary & Exploration\n",
    "\n",
    "The pickled data is a dictionary with 4 key/value pairs:\n",
    "\n",
    "- `'features'` is a 4D array containing raw pixel data of the traffic sign images, (num examples, width, height, channels).\n",
    "- `'labels'` is a 2D array containing the label/class id of the traffic sign. The file `signnames.csv` contains id -> name mappings for each id.\n",
    "- `'sizes'` is a list containing tuples, (width, height) representing the the original width and height the image.\n",
    "- `'coords'` is a list containing tuples, (x1, y1, x2, y2) representing coordinates of a bounding box around the sign in the image. **THESE COORDINATES ASSUME THE ORIGINAL IMAGE. THE PICKLED DATA CONTAINS RESIZED VERSIONS (32 by 32) OF THESE IMAGES**\n",
    "\n",
    "Complete the basic data summary below."
   ]
  },
  {
   "cell_type": "code",
   "execution_count": 2,
   "metadata": {
    "collapsed": true
   },
   "outputs": [],
   "source": [
    "### Preprocess the data here.\n",
    "def normalize(data):\n",
    "    a=0.1\n",
    "    b=0.9\n",
    "    greyscale_min=0\n",
    "    greyscale_max=255\n",
    "    return a + ( ( (data - greyscale_min)*(b - a) )/( greyscale_max - greyscale_min ) )"
   ]
  },
  {
   "cell_type": "code",
   "execution_count": 3,
   "metadata": {
    "collapsed": false
   },
   "outputs": [],
   "source": [
    "from skimage import transform as tr\n",
    "import matplotlib.pyplot as plt\n",
    "import numpy as np\n",
    "import random\n",
    "import cv2\n",
    "\n",
    "# Perform augmentation on a dataset and return a dataset with all labels having the same number of samples \"class_freq\"\n",
    "def augment(xdata,ydata,class_freq=2500):\n",
    "    classes,counts=np.unique(ydata,return_counts=True)\n",
    "    required_xdata = np.subtract(class_freq,counts)\n",
    "    tempx = np.zeros(((np.sum(np.subtract(class_freq,counts))),32,32,1))\n",
    "    tempy = np.zeros(((np.sum(np.subtract(class_freq,counts))),))\n",
    "    for x in range(43):\n",
    "        ims_need = required_xdata[x]\n",
    "        for y in range(ims_need):\n",
    "            r = random.randint(0,counts[x]-1)\n",
    "            rand = random.randint(1,4) # Perform any of the four given augmentation\n",
    "            im = xdata[np.sum(counts[0:x])+r]\n",
    "            if(rand == 1): # Translation\n",
    "                shiftx = random.randint(-2,2)\n",
    "                shifty = random.randint(-2,2)\n",
    "                t_translate = tr.SimilarityTransform(translation=[shiftx,shifty])\n",
    "                im = tr.warp(im,t_translate)\n",
    "            elif(rand == 2): # Rotation\n",
    "                ang = random.randint(-15,15)\n",
    "                im = tr.rotate(im,ang)\n",
    "            elif(rand == 3): # Scaling\n",
    "                scale = random.uniform(0.90,1.10)\n",
    "                t_scale = tr.SimilarityTransform(scale=scale)\n",
    "                im = tr.warp(im,t_scale)\n",
    "#             elif(rand == 4):   \n",
    "#                 im = tr.pyramid_expand(xdata[i])\n",
    "#                 im = tr.rescale(im,0.5)\n",
    "            elif(rand == 4): # Affine Transformation\n",
    "                shiftx = random.randint(-2,2)\n",
    "                shifty = random.randint(-2,2)\n",
    "                ng = random.uniform(-np.deg2rad(15),np.deg2rad(15))\n",
    "                sc = random.uniform(0.90,1.10)\n",
    "                taffine = tr.AffineTransform(scale = (sc,sc),rotation = ng ,translation = (shiftx,shifty))\n",
    "                im = tr.warp(im,taffine)\n",
    "#             else:\n",
    "#                 continue\n",
    "            tempx[np.sum(required_xdata[0:x])+y] = im\n",
    "            tempy[np.sum(required_xdata[0:x])+y] = ydata[np.sum(counts[0:x])+r]\n",
    "        \n",
    "    return tempx,tempy\n"
   ]
  },
  {
   "cell_type": "code",
   "execution_count": 4,
   "metadata": {
    "collapsed": false
   },
   "outputs": [
    {
     "name": "stdout",
     "output_type": "stream",
     "text": [
      "Augmenting.....\n",
      "Time it took to augment  31.36697006225586\n",
      "Shape of balanced training dataset  (215000, 32, 32, 1)\n",
      "Size of labels  (215000,)\n"
     ]
    }
   ],
   "source": [
    "# Change color mode of orginal training dataset\n",
    "for i in range(X_train.shape[0]):\n",
    "    X_train[i] = cv2.cvtColor(X_train[i],cv2.COLOR_BGR2YUV)\n",
    "\n",
    "# Use only grayscale data of the resultant YUV color mode (i.e the Y-channel)\n",
    "X_train = X_train[:,:,:,0:1]\n",
    "\n",
    "# Normalize the data into values \n",
    "X_train = normalize(X_train)\n",
    "    \n",
    "# Produce larger datasets through augmentation\n",
    "start = time.time()\n",
    "print(\"Augmenting.....\")\n",
    "xt,yt=augment(X_train,y_train,class_freq=5000)\n",
    "X_train = np.append(X_train,xt,axis=0)\n",
    "y_train = np.append(y_train,yt,axis=0)\n",
    "print(\"Time it took to augment \",time.time()-start)\n",
    "\n",
    "print(\"Shape of balanced training dataset \",X_train.shape)\n",
    "print(\"Size of labels \",y_train.shape)"
   ]
  },
  {
   "cell_type": "code",
   "execution_count": 5,
   "metadata": {
    "collapsed": false
   },
   "outputs": [
    {
     "name": "stdout",
     "output_type": "stream",
     "text": [
      "Number of original training examples = 215000\n",
      "Number of testing examples = 12630\n",
      "Number of classes = 43\n",
      "[5000 5000 5000 5000 5000 5000 5000 5000 5000 5000 5000 5000 5000 5000 5000\n",
      " 5000 5000 5000 5000 5000 5000 5000 5000 5000 5000 5000 5000 5000 5000 5000\n",
      " 5000 5000 5000 5000 5000 5000 5000 5000 5000 5000 5000 5000 5000]\n",
      "Length of training set = 193500\n",
      "Length of validation set = 21500\n",
      "Image data shape = (32, 32, 1)\n"
     ]
    }
   ],
   "source": [
    "### Replace each question mark with the appropriate value.\n",
    "import numpy as np\n",
    "EPOCHS = 2\n",
    "BATCH_SIZE = 100\n",
    "\n",
    "# TODO: Number of training examples\n",
    "n_original_train = X_train.shape[0]\n",
    "\n",
    "# TODO: Number of examples in actual training set (-validation)\n",
    "n_train = int(((X_train.shape[0]+1)/30)*0.9)*30\n",
    "\n",
    "# TODO: Number of training examples\n",
    "n_validation = X_train.shape[0]-n_train\n",
    "\n",
    "# TODO: Number of testing examples.\n",
    "n_test = X_test.shape[0]\n",
    "\n",
    "# TODO: What's the shape of an traffic sign image?\n",
    "image_shape = X_train[0].shape\n",
    "\n",
    "# TODO: How many unique classes/labels there are in the dataset.\n",
    "_,n_classes = np.unique(y_train,return_counts=True)\n",
    "\n",
    "print(\"Number of original training examples =\", n_original_train)\n",
    "print(\"Number of testing examples =\", n_test)\n",
    "print(\"Number of classes =\", len(n_classes))\n",
    "print(n_classes)\n",
    "print(\"Length of training set =\", n_train)\n",
    "print(\"Length of validation set =\", n_validation)\n",
    "print(\"Image data shape =\", image_shape)\n",
    "# print(X_train.num_examples)"
   ]
  },
  {
   "cell_type": "markdown",
   "metadata": {},
   "source": [
    "----\n",
    "\n",
    "## Step 2: Design and Test a Model Architecture\n",
    "\n",
    "Design and implement a deep learning model that learns to recognize traffic signs. Train and test your model on the [German Traffic Sign Dataset](http://benchmark.ini.rub.de/?section=gtsrb&subsection=dataset).\n",
    "\n",
    "There are various aspects to consider when thinking about this problem:\n",
    "\n",
    "- Neural network architecture\n",
    "- Play around preprocessing techniques (normalization, rgb to grayscale, etc)\n",
    "- Number of examples per label (some have more than others).\n",
    "- Generate fake data.\n",
    "\n",
    "Here is an example of a [published baseline model on this problem](http://yann.lecun.com/exdb/publis/pdf/sermanet-ijcnn-11.pdf). It's not required to be familiar with the approach used in the paper but, it's good practice to try to read papers like these.\n",
    "\n",
    "**NOTE:** The LeNet-5 implementation shown in the [classroom](https://classroom.udacity.com/nanodegrees/nd013/parts/fbf77062-5703-404e-b60c-95b78b2f3f9e/modules/6df7ae49-c61c-4bb2-a23e-6527e69209ec/lessons/601ae704-1035-4287-8b11-e2c2716217ad/concepts/d4aca031-508f-4e0b-b493-e7b706120f81) at the end of the CNN lesson is a solid starting point. You'll have to change the number of classes and possibly the preprocessing, but aside from that it's plug and play!"
   ]
  },
  {
   "cell_type": "markdown",
   "metadata": {},
   "source": [
    "### Implementation\n",
    "\n",
    "Use the code cell (or multiple code cells, if necessary) to implement the first step of your project. Once you have completed your implementation and are satisfied with the results, be sure to thoroughly answer the questions that follow."
   ]
  },
  {
   "cell_type": "markdown",
   "metadata": {},
   "source": [
    "### Question 1 \n",
    "\n",
    "_Describe how you preprocessed the data. Why did you choose that technique?_"
   ]
  },
  {
   "cell_type": "markdown",
   "metadata": {},
   "source": [
    "**Answer:** The images are first converted to the YUV color mode. The U and V (color information) is removed to finally give a grayscale image. Next, the grayscale images are normalized such that each pixel has a value between 0.1 and 0.9.\n",
    "\n",
    "- Reasons for converting images to grayscale are multifold:\n",
    "    * Grayscale images are immune to variations in lighting, such as extreme shadows or bright sunshine. \n",
    "    * Grayscale images are much lesser in size as they are only one layer deep (without the color information) making processing much faster\n",
    "    * The U and V information in traffic signs did not yield any better results during testing. My thinking is that they let some brightness noise to creep in and spoil the data. Although, it must be noted that color information should theoretically help better distinguish between different signs (e.g a *parking sign* which is red and a *left turn ahead* sign which is predominantly blue)\n",
    "\n",
    "\n",
    "- The main reason for normalizing images is to reduce the intensity variations caused in grayscale images due to the variable lighting effects in the original colored data. This helps two same signs with different lighting conditions to be seen as the same by the model, instead of two different images, thus helping in better generalizatioin of the model."
   ]
  },
  {
   "cell_type": "code",
   "execution_count": 6,
   "metadata": {
    "collapsed": false
   },
   "outputs": [
    {
     "name": "stdout",
     "output_type": "stream",
     "text": [
      "Shape of the final training dataset (193470, 32, 32, 1)\n",
      "Shape of the final validation dataset (21510, 32, 32, 1)\n",
      "Shape of the final testing dataset (12630, 32, 32, 1)\n"
     ]
    }
   ],
   "source": [
    "### Generate data additional data (OPTIONAL!)\n",
    "### and split the data into training/validation/testing sets here.\n",
    "\n",
    "\n",
    "# Total tracks = Total images/30 where 30 is the number of frames per second\n",
    "tot_tracks = int(X_train.shape[0]/30)\n",
    "\n",
    "# rand_train stores random values that will later be used to select random tracks from the training set\n",
    "rand_train = np.random.choice(np.arange(0,tot_tracks),replace=False,size=int((n_train+n_validation)/30))\n",
    "\n",
    "# Initialize simple arrays for datasets\n",
    "X_training = []\n",
    "y_training = []\n",
    "X_validation = []\n",
    "y_validation = []\n",
    "\n",
    "# Split training dataset by randomly distributing its \"tracks\" into training and validation  \n",
    "for x in range(len(rand_train)):\n",
    "    for y in range(30):\n",
    "        if(x>=n_validation/30):\n",
    "            X_training.append(X_train[(rand_train[x]*30)+y])\n",
    "            y_training.append(y_train[(rand_train[x]*30)+y])\n",
    "        else:\n",
    "            X_validation.append(X_train[(rand_train[x]*30)+y])\n",
    "            y_validation.append(y_train[(rand_train[x]*30)+y])\n",
    "\n",
    "# Final packing of the training and validation datasets\n",
    "X_training = np.array(X_training)\n",
    "y_training = np.array(y_training,dtype=np.int32)\n",
    "X_validation = np.array(X_validation)\n",
    "y_validation = np.array(y_validation,dtype=np.int32)\n",
    "\n",
    "# Perform color modifications and normalization on the testing data, same as above\n",
    "X_testing = X_test[0:n_test]\n",
    "y_testing = y_test[0:n_test]\n",
    "\n",
    "for i in range(n_test-1):\n",
    "    X_testing[i] = cv2.cvtColor(X_testing[i],cv2.COLOR_BGR2YUV)\n",
    "X_testing = X_testing[:,:,:,0:1]\n",
    "\n",
    "# Perform normalization\n",
    "X_testing = normalize(X_testing)\n",
    "\n",
    "print(\"Shape of the final training dataset\",X_training.shape)\n",
    "print(\"Shape of the final validation dataset\",X_validation.shape)\n",
    "print(\"Shape of the final testing dataset\",X_testing.shape)"
   ]
  },
  {
   "cell_type": "code",
   "execution_count": 7,
   "metadata": {
    "collapsed": false
   },
   "outputs": [
    {
     "name": "stdout",
     "output_type": "stream",
     "text": [
      "Index of image  187720\n",
      "Label for the below image:  13\n"
     ]
    },
    {
     "data": {
      "image/png": "[encoded data removed]",
      "text/plain": [
       "<matplotlib.figure.Figure at 0x1204057f0>"
      ]
     },
     "metadata": {},
     "output_type": "display_data"
    },
    {
     "data": {
      "image/png": "[encoded data removed]",
      "text/plain": [
       "<matplotlib.figure.Figure at 0x126900048>"
      ]
     },
     "metadata": {},
     "output_type": "display_data"
    },
    {
     "data": {
      "image/png": "[encoded data removed]",
      "text/plain": [
       "<matplotlib.figure.Figure at 0x1269a5400>"
      ]
     },
     "metadata": {},
     "output_type": "display_data"
    }
   ],
   "source": [
    "import random\n",
    "import numpy as np\n",
    "import matplotlib.pyplot as plt\n",
    "from sklearn.utils import shuffle\n",
    "from skimage import transform as tr\n",
    "%matplotlib inline\n",
    "\n",
    "# Check if the images and their corresponding labels match after pre-processing stage is over\n",
    "index = random.randint(0, len(X_training))\n",
    "print(\"Index of image \",index)\n",
    "print(\"Label for the below image: \",y_training[index])\n",
    "plt.imshow(X_training[index,:,:,0],cmap=\"gray\")\n",
    "plt.show()\n",
    "plt.hist(y_train,bins=len(n_classes))\n",
    "plt.show()\n",
    "plt.hist(y_training,bins=len(n_classes))\n",
    "plt.show()"
   ]
  },
  {
   "cell_type": "markdown",
   "metadata": {},
   "source": [
    "### Data balancing\n",
    "\n",
    "As can be seen in the first histogram above, all labels have been given an equal number of images (5000 in this case) so that the unbalanced original data does not cause any learning biases in the trained model. This technique has helped propel the model above 97% testing accuracy. \n",
    "\n",
    "The second histogram shows the balancing in the training set after a random split was done to generate the validation and training sets. Due to non-perfect randomness, the training set has a slight uneveness to it. However, this change can be considered negligible in the grand scheme of things as the standard deviation is less than 5% for all labels. So, we move on. "
   ]
  },
  {
   "cell_type": "markdown",
   "metadata": {},
   "source": [
    "### Question 2\n",
    "\n",
    "_Describe how you set up the training, validation and testing data for your model. **Optional**: If you generated additional data, how did you generate the data? Why did you generate the data? What are the differences in the new dataset (with generated data) from the original dataset?_"
   ]
  },
  {
   "cell_type": "markdown",
   "metadata": {},
   "source": [
    "**Answer:** This part was a little tricky.\n",
    "\n",
    "Most answers given on the forums suggest creating a validation data set from the training data using a randomized function in a 80-20% fashion where the validation set gets 20% of the training set images randomly. \n",
    "However, this [paper](http://yann.lecun.com/exdb/publis/pdf/sermanet-ijcnn-11.pdf) and the original [website for the GTSRB data](http://benchmark.ini.rub.de/?section=gtsrb&subsection=dataset) point out an important structural characterstic of the data. The original training data is divided into tracks where each track represents 30 frames of a video shooting a traffic sign. Consequentially, each track consists of 30 images of the same traffic sign as the camera approaches and then passes the sign in the original video. This is important because during preparation of the validation dataset, if we do selections totally randomly, then we end up creating a validation set that has literally the same signs as the training dataset, thus creating a massive bias while training the model on the training dataset. \n",
    "\n",
    "As pointed out by various questions on the forums, most cohorts are having a problem with overfitting and assume that there is a problem in the data. I think the problem here is caused by the above mentioned error in dataset creation, as the validation and training dataset are essentially the same, thus creating an overly good validation test accuracy (the lesson where the LeNet architecture is tested, validation accuracy is an abnormal 95%). \n",
    "\n",
    "Here, I created a custom randomization where \"tracks\" are randomly distributed into validation and training datasets instead of images, which should rectify the above mentioned problem.\n",
    "\n",
    "Once a reviewer validates this viewpoint, I'll share this on the forums for the future cohorts.\n",
    "\n",
    "Next, the training data has been augmented by creating several variations of the original data and then adding them to the finalized training dataset. The augmentation involves random scaling, translation, rotation and affine transformations of the original images. The affine Transformation is done as it maintains parallelism of lines, but can change the perspective through which to look at the object (traffic sign in this case). The other transformations are simple ways of adding some robustness to the model. In total, a training set containing 108,000 images is used for training. "
   ]
  },
  {
   "cell_type": "code",
   "execution_count": 8,
   "metadata": {
    "collapsed": false
   },
   "outputs": [],
   "source": [
    "### Define your architecture here.\n",
    "### Feel free to use as many code cells as needed.\n",
    "\n",
    "import tensorflow as tf\n",
    "from tensorflow.contrib.layers import flatten\n",
    "# Hyperparameters\n",
    "mu = 0\n",
    "sigma = 0.1\n",
    "c1 = 32\n",
    "c2 = 64\n",
    "f1 = 100\n",
    "\n",
    "# Variables defined above so that they can be accessed by saver module later\n",
    "conv1_W = tf.Variable(tf.truncated_normal(shape=(5, 5, 1, c1), mean = mu, stddev = sigma),name=\"w1\")\n",
    "conv1_b = tf.Variable(tf.zeros(c1),name='b1')\n",
    "    \n",
    "conv2_W = tf.Variable(tf.truncated_normal(shape=(5, 5, c1, c2), mean = mu, stddev = sigma),name='w2')\n",
    "conv2_b = tf.Variable(tf.zeros(c2),name='b2')\n",
    "\n",
    "fc1_W = tf.Variable(tf.truncated_normal(shape=(7872, f1), mean = mu, stddev = sigma),name='w3')\n",
    "fc1_b = tf.Variable(tf.zeros(f1),name='b3')\n",
    "\n",
    "fc3_W  = tf.Variable(tf.truncated_normal(shape=(f1, 43), mean = mu, stddev = sigma),name='w4')\n",
    "fc3_b  = tf.Variable(tf.zeros(43),name='b4')\n",
    "\n",
    "def LeNet(x):    \n",
    "    \n",
    "    \n",
    "    conv1   = tf.nn.conv2d(x, conv1_W, strides=[1, 1, 1, 1], padding='VALID') + conv1_b\n",
    "\n",
    "    conv1 = tf.nn.relu(conv1)\n",
    "\n",
    "    conv1 = tf.nn.max_pool(conv1, ksize=[1, 2, 2, 1], strides=[1, 2, 2, 1], padding='VALID')\n",
    "    conv1 = tf.nn.dropout(conv1,keep_prob)\n",
    "\n",
    "    # Create a summary to visualize the first layer Dropout activation\n",
    "    tf.summary.histogram(\"First_layer_Dropout\", conv1)\n",
    "    \n",
    "    conv2   = tf.nn.conv2d(conv1, conv2_W, strides=[1, 1, 1, 1], padding='VALID') + conv2_b\n",
    "    \n",
    "    conv2 = tf.nn.relu(conv2)\n",
    "\n",
    "    conv2 = tf.nn.max_pool(conv2, ksize=[1, 2, 2, 1], strides=[1, 2, 2, 1], padding='VALID')\n",
    "    \n",
    "    # Create a summary to visualize the second layer Max Pool activation\n",
    "    tf.summary.histogram(\"Second_layer_MaxPool\", conv2)\n",
    "    \n",
    "    fcx = flatten(conv2)\n",
    "    fcy = flatten(conv1)\n",
    "    fc0 = tf.concat(1,[fcy,fcx])\n",
    "#     print(int(fc0.get_shape()[1]))\n",
    "    \n",
    "    fc1   = tf.matmul(fc0, fc1_W) + fc1_b\n",
    "    fc1 = tf.nn.dropout(fc1,keep_prob)\n",
    "\n",
    "    # Create a summary to visualize the first layer ReLU activation\n",
    "    tf.summary.histogram(\"First_Classifier_Dropout\", fc1)\n",
    "    \n",
    "    logits = tf.matmul(fc1, fc3_W) + fc3_b\n",
    "    \n",
    "    # Create a summary to visualize the first layer ReLU activation\n",
    "    tf.summary.histogram(\"Final_Classifier\", logits)\n",
    "\n",
    "    return logits"
   ]
  },
  {
   "cell_type": "markdown",
   "metadata": {},
   "source": [
    "### Question 3\n",
    "\n",
    "_What does your final architecture look like? (Type of model, layers, sizes, connectivity, etc.)  For reference on how to build a deep neural network using TensorFlow, see [Deep Neural Network in TensorFlow\n",
    "](https://classroom.udacity.com/nanodegrees/nd013/parts/fbf77062-5703-404e-b60c-95b78b2f3f9e/modules/6df7ae49-c61c-4bb2-a23e-6527e69209ec/lessons/b516a270-8600-4f93-a0a3-20dfeabe5da6/concepts/83a3a2a2-a9bd-4b7b-95b0-eb924ab14432) from the classroom._\n"
   ]
  },
  {
   "cell_type": "markdown",
   "metadata": {},
   "source": [
    "**Answer:** \n",
    "\n",
    "The architecture uses 4 layers.\n",
    "\n",
    "Layer 1: A convolutional layer with 32 5*5 filters performing a convolution on 32 by 32 grayscale normalized images. Activation used is Rectified Linear followed by Max Pooling to reduce the size by half. Finally a dropout is used so as to contain excessive noise generating from lower stage layers that may cause overfitting in the end. \n",
    "\n",
    "Layer 2: A convolutional layer with 64 5*5 filters performing a convolution on the 32 layer deep output from layer 1. A Rectified Linear activation and Max Pooling are performed next. However, no dropouts are used in-order to preserve more information at this stage.\n",
    "\n",
    "Layer 3: A classifier layer with a width of 100 hidden units. It takes as input the flattened output of Layer 2 and performs matrix multiplication and addition in the form \"Wx + b\" to gain classifier level information. The output is 100 units wide. Additionally, a dropout at this stage proved to help with overfitting.\n",
    "\n",
    "Layer 4: The final classifier with a width of 43 hidden units. Performs the same operation as Layer 3 and outputs a 43 unit wide array that matches the one_hot_y label array in shape. This is also the final output of the model and is used to process accuracy and loss. \n",
    "\n",
    "In summary, the architecture is a variation of the LeNet architecture with the only difference of multi-scaling. Here, the output from the lowest layer is also used in the final classifier layers, so as to give the model a \"feel\" for low lever details (like short lines and arcs) along with high level details (complex shapes like a right turn, parking sign, etc) of an image. Also the classifier is a 2-stage classifier, wherein the additional depth in the classifier helps with better generalizations and accuracy. \n",
    "\n",
    "![Model](model.png)\n"
   ]
  },
  {
   "cell_type": "code",
   "execution_count": 9,
   "metadata": {
    "collapsed": false
   },
   "outputs": [],
   "source": [
    "### Train your model here.\n",
    "### Feel free to use as many code cells as needed.\n",
    "\n",
    "x = tf.placeholder(tf.float32, (None, 32, 32,1))\n",
    "y = tf.placeholder(tf.int32, (None))\n",
    "one_hot_y = tf.one_hot(y, len(n_classes))"
   ]
  },
  {
   "cell_type": "code",
   "execution_count": 10,
   "metadata": {
    "collapsed": false
   },
   "outputs": [],
   "source": [
    "# learning rate\n",
    "rate = 0.001\n",
    "\n",
    "keep_prob = tf.placeholder(tf.float32) # probability to keep units\n",
    "with tf.name_scope('Model'):\n",
    "    logits = LeNet(x)\n",
    "with tf.name_scope('Loss'):\n",
    "    cross_entropy = tf.nn.softmax_cross_entropy_with_logits(logits, one_hot_y)\n",
    "    loss_operation = tf.reduce_mean(cross_entropy)\n",
    "with tf.name_scope('AdamOptimizer'):\n",
    "    optimizer = tf.train.AdamOptimizer(learning_rate = rate)\n",
    "    training_operation = optimizer.minimize(loss_operation)\n",
    "with tf.name_scope('Accuracy'):\n",
    "    # Accuracy\n",
    "    acc = tf.equal(tf.argmax(logits, 1), tf.argmax(one_hot_y, 1))\n",
    "    acc = tf.reduce_mean(tf.cast(acc, tf.float32))"
   ]
  },
  {
   "cell_type": "code",
   "execution_count": 11,
   "metadata": {
    "collapsed": false
   },
   "outputs": [
    {
     "name": "stdout",
     "output_type": "stream",
     "text": [
      "INFO:tensorflow:Summary name w1:0 is illegal; using w1_0 instead.\n",
      "INFO:tensorflow:Summary name b1:0 is illegal; using b1_0 instead.\n",
      "INFO:tensorflow:Summary name w2:0 is illegal; using w2_0 instead.\n",
      "INFO:tensorflow:Summary name b2:0 is illegal; using b2_0 instead.\n",
      "INFO:tensorflow:Summary name w3:0 is illegal; using w3_0 instead.\n",
      "INFO:tensorflow:Summary name b3:0 is illegal; using b3_0 instead.\n",
      "INFO:tensorflow:Summary name w4:0 is illegal; using w4_0 instead.\n",
      "INFO:tensorflow:Summary name b4:0 is illegal; using b4_0 instead.\n"
     ]
    }
   ],
   "source": [
    "correct_prediction = tf.equal(tf.argmax(logits, 1), tf.argmax(one_hot_y, 1))\n",
    "accuracy_operation = tf.reduce_mean(tf.cast(correct_prediction, tf.float32))\n",
    "cross_ent = tf.nn.softmax_cross_entropy_with_logits(logits, one_hot_y)\n",
    "loss_opera = tf.reduce_mean(cross_ent)\n",
    "# print(conv1_W)\n",
    "def evaluate(X_data, y_data):\n",
    "    num_examples = len(X_data)\n",
    "    total_accuracy = 0\n",
    "    total_loss = 0\n",
    "    sess = tf.get_default_session()\n",
    "    for offset in range(0, num_examples, BATCH_SIZE):\n",
    "        batch_x, batch_y = X_data[offset:offset+BATCH_SIZE], y_data[offset:offset+BATCH_SIZE]\n",
    "        accuracy,loss = sess.run([accuracy_operation,loss_opera], feed_dict={x: batch_x, y: batch_y, keep_prob:1})\n",
    "        total_loss += (loss * len(batch_x))\n",
    "        total_accuracy += (accuracy * len(batch_x))\n",
    "    return total_accuracy / num_examples , total_loss/num_examples\n",
    "\n",
    "# Initializing the variables\n",
    "init = tf.global_variables_initializer()\n",
    "\n",
    "# Create a summary to monitor cost tensor\n",
    "tf.summary.scalar(\"Loss\", loss_operation)\n",
    "# Create a summary to monitor accuracy tensor\n",
    "tf.summary.scalar(\"Accuracy\", acc)\n",
    "# Create summaries to visualize weights\n",
    "for var in tf.trainable_variables():\n",
    "    tf.summary.histogram(var.name, var)\n",
    "# Summarize all gradients\n",
    "# for grad, var in grads:\n",
    "#     tf.histogram_summary(var.name + '/gradient', grad)\n",
    "# Merge all summaries into a single op\n",
    "merged_summary_op = tf.summary.merge_all()\n",
    "\n"
   ]
  },
  {
   "cell_type": "code",
   "execution_count": 12,
   "metadata": {
    "collapsed": false
   },
   "outputs": [
    {
     "name": "stdout",
     "output_type": "stream",
     "text": [
      "Last best validation accuracy = 0.994 and 0.02392202830946602\n",
      "Training...\n",
      "\n",
      "EPOCH 1 ...\n",
      "Training Accuracy = 0.996 \tTraining Loss = 0.01721746597800268\n",
      "Validation Accuracy = 0.995 \tValidation Loss = 0.023811848844575375\n",
      "Time for this EPOCH =  686.4900209903717\n",
      "Model saved\n",
      "EPOCH 2 ...\n",
      "Training Accuracy = 0.995 \tTraining Loss = 0.01924431956484149\n",
      "Validation Accuracy = 0.993 \tValidation Loss = 0.0279413005180708\n",
      "Time for this EPOCH =  645.694687128067\n",
      "Training completed\n"
     ]
    }
   ],
   "source": [
    "saver = tf.train.Saver({\"w1\": conv1_W,\"b1\": conv1_b,\"w2\": conv2_W,\"b2\": conv2_b,\"w3\": fc1_W,\"b3\": fc1_b,\"w4\": fc3_W,\"b4\": fc3_b})\n",
    "with tf.Session() as sess:\n",
    "    sess.run(init)\n",
    "    num_examples = len(X_training)\n",
    "    val_arr = np.zeros((EPOCHS+1))\n",
    "     # op to write logs to Tensorboard\n",
    "    summary_writer = tf.summary.FileWriter(logs_path,graph=tf.get_default_graph())\n",
    "\n",
    "    # Restore model that was pre-trained and check validation accuracy \n",
    "    saver.restore(sess,os.getcwd()+'/tmp/model.ckpt')\n",
    "    X_validation, y_validation = shuffle(X_validation, y_validation)\n",
    "    validation_accuracy, loss_val = evaluate(X_validation, y_validation)\n",
    "    print(\"Last best validation accuracy = {:.3f} and {}\".format(validation_accuracy,loss_val))\n",
    "#     val_arr[EPOCHS] = validation_accuracy\n",
    "    \n",
    "    print(\"Training...\")\n",
    "    print()\n",
    "    for i in range(EPOCHS):\n",
    "        start = time.time()\n",
    "        X_training, y_training = shuffle(X_training, y_training)\n",
    "        X_validation, y_validation = shuffle(X_validation, y_validation)\n",
    "\n",
    "        for offset in range(0, num_examples, BATCH_SIZE):\n",
    "            end = offset + BATCH_SIZE\n",
    "            batch_x, batch_y = X_training[offset:end], y_training[offset:end]\n",
    "            op,summary = sess.run([training_operation,merged_summary_op], \n",
    "                                  feed_dict={x: batch_x, y: batch_y, keep_prob:0.5})\n",
    "            \n",
    "             # Write logs at every iteration\n",
    "            summary_writer.add_summary(summary, i * num_examples/BATCH_SIZE + offset)\n",
    "            \n",
    "        training_accuracy, loss_train = evaluate(X_training,y_training)#X_train[:,:,:,0:1],y_train)\n",
    "        validation_accuracy, loss_val = evaluate(X_validation, y_validation)\n",
    "\n",
    "        print(\"EPOCH {} ...\".format(i+1))\n",
    "        print(\"Training Accuracy = {:.3f} \\tTraining Loss = {}\".format(training_accuracy,loss_train))\n",
    "        print(\"Validation Accuracy = {:.3f} \\tValidation Loss = {}\".format(validation_accuracy,loss_val))\n",
    "        print(\"Time for this EPOCH = \",time.time()-start)\n",
    "\n",
    "        if(validation_accuracy>=val_arr.max()):\n",
    "            saver.save(sess, os.getcwd()+'/tmp/model.ckpt')\n",
    "            print(\"Model saved\")\n",
    "        val_arr[i] = validation_accuracy\n",
    "    print(\"Training completed\")"
   ]
  },
  {
   "cell_type": "code",
   "execution_count": 13,
   "metadata": {
    "collapsed": false
   },
   "outputs": [
    {
     "name": "stdout",
     "output_type": "stream",
     "text": [
      "(12630, 32, 32, 1)\n",
      "Test Accuracy = 0.971\t Test Loss = 0.13269051677095375\n"
     ]
    }
   ],
   "source": [
    "with tf.Session() as sess:\n",
    "    sess.run(tf.global_variables_initializer())\n",
    "    try:\n",
    "        saver\n",
    "    except:\n",
    "        saver = tf.train.Saver({\"w1\": conv1_W,\"b1\": conv1_b,\"w2\": conv2_W,\"b2\": conv2_b,\"w3\": fc1_W,\"b3\": fc1_b,\"w4\": fc3_W,\"b4\": fc3_b})\n",
    "    saver.restore(sess,os.getcwd()+'/tmp/model.ckpt')\n",
    "    print(X_testing.shape)\n",
    "    test_accuracy, test_loss = evaluate(X_testing, y_testing)\n",
    "    print(\"Test Accuracy = {:.3f}\\t Test Loss = {}\".format(test_accuracy,test_loss))"
   ]
  },
  {
   "cell_type": "markdown",
   "metadata": {},
   "source": [
    "## Accuracy 97.5\n",
    "\n",
    "Although the output above shows 97.1% accuracy, earlier runs produced an all-time high of 97.5% accuracy. Please bear in mind that this accuracy comes from very low amount of testing and fine-tuning, as my credits for the GPU enabled AWS instance have all but run out. Only 10 epochs for pre-training and 2-3 epochs for training have produced this result. I believe, a generous 30 epochs (by when the validation acc should have reached 100%), coupled with some fine-tuning (like variable learning rate and variable augmentation) can push this accuracy well past the 98.3% human accuracy for the test dataset. Suffice to say, I'm satisfied with the output and will put more time and effort once the hardware restrictions are less strict. \n",
    "\n",
    "![Proof for 97.5% accuracy](test_acc.png)"
   ]
  },
  {
   "cell_type": "markdown",
   "metadata": {},
   "source": [
    "### Question 4\n",
    "\n",
    "_How did you train your model? (Type of optimizer, batch size, epochs, hyperparameters, etc.)_\n"
   ]
  },
  {
   "cell_type": "markdown",
   "metadata": {},
   "source": [
    "**Answer:** \n",
    "\n",
    "- Optimizer: Adam Optimizer is used that uses moving averages of parameters for better convergence.\n",
    "- Batch size: 100 \n",
    "- Epochs: 15-30 for pre-training, and 1-5 epochs for training\n",
    "- Hyperparameters: Learning rate is 0.001, Mean and standard deviation for variable distribution are 0 and 0.1"
   ]
  },
  {
   "cell_type": "markdown",
   "metadata": {},
   "source": [
    "### Question 5\n",
    "\n",
    "\n",
    "_What approach did you take in coming up with a solution to this problem? It may have been a process of trial and error, in which case, outline the steps you took to get to the final solution and why you chose those steps. Perhaps your solution involved an already well known implementation or architecture. In this case, discuss why you think this is suitable for the current problem._"
   ]
  },
  {
   "cell_type": "markdown",
   "metadata": {},
   "source": [
    "**Answer:**\n",
    "\n",
    "**Pretraining**\n",
    "The final accuracy could only be acheived by training on pre-trained weights and biases. For pre-training, the model was run through 15 epochs.\n",
    "\n",
    "**Training**\n",
    "Finally, the program was rerun several times after clearing the output and restarting the kernel with an EPOCH value of 1. This process was done manually (although it could quite easily be automated) for 5-10 times. After a few runs, the data augmentation was reduced to 72000 total training images. \n",
    "\n",
    "**Reasoning** \n",
    "Training on the same augmented data would plateau the test accuracy after a while. Hence, the second-stage training involves learning from freshly augmented datasets to produce better results. If the training stage gets automated, the accuracy could probably be increased by a sizaeble margin. However, my AWS credits are starting to run low and my base machine can't handle the training in any reasonable time limits. Hence, I leave any additional fine-tuning for a future period. \n",
    "\n",
    "The architecture has been sourced from this brilliant and lucid [paper](http://yann.lecun.com/exdb/publis/pdf/sermanet-ijcnn-11.pdf). Although, they recommend using 108-108 feature outputs and a 100-100 hidden unit width for the classifier, I found the 32-64 feature output to be good enough in accuracy, but much faster in execution times (which again helped with faster testing).  \n",
    "\n",
    "All in all, I believe the testing accuracy can be easily pushed by 1-3% if some more AWS instance testing and fine tuning are put into this model. Changes like following a 108-108 architecture, additional augmentation on the training dataset, fine-tuning of the hyper-parameters, and more epochs for the actual training could help with improving testing accuracy. "
   ]
  },
  {
   "cell_type": "markdown",
   "metadata": {},
   "source": [
    "---\n",
    "\n",
    "## Step 3: Test a Model on New Images\n",
    "\n",
    "Take several pictures of traffic signs that you find on the web or around you (at least five), and run them through your classifier on your computer to produce example results. The classifier might not recognize some local signs but it could prove interesting nonetheless.\n",
    "\n",
    "You may find `signnames.csv` useful as it contains mappings from the class id (integer) to the actual sign name."
   ]
  },
  {
   "cell_type": "markdown",
   "metadata": {},
   "source": [
    "### Implementation\n",
    "\n",
    "Use the code cell (or multiple code cells, if necessary) to implement the first step of your project. Once you have completed your implementation and are satisfied with the results, be sure to thoroughly answer the questions that follow."
   ]
  },
  {
   "cell_type": "code",
   "execution_count": 14,
   "metadata": {
    "collapsed": false
   },
   "outputs": [
    {
     "data": {
      "image/png": "[encoded data removed]",
      "text/plain": [
       "<matplotlib.figure.Figure at 0x12828f748>"
      ]
     },
     "metadata": {},
     "output_type": "display_data"
    },
    {
     "data": {
      "image/png": "[encoded data removed]",
      "text/plain": [
       "<matplotlib.figure.Figure at 0x126ab4940>"
      ]
     },
     "metadata": {},
     "output_type": "display_data"
    },
    {
     "data": {
      "image/png": "[encoded data removed]",
      "text/plain": [
       "<matplotlib.figure.Figure at 0x110d91588>"
      ]
     },
     "metadata": {},
     "output_type": "display_data"
    },
    {
     "data": {
      "image/png": "[encoded data removed]",
      "text/plain": [
       "<matplotlib.figure.Figure at 0x1284d8908>"
      ]
     },
     "metadata": {},
     "output_type": "display_data"
    },
    {
     "data": {
      "image/png": "[encoded data removed]",
      "text/plain": [
       "<matplotlib.figure.Figure at 0x265f0f1d0>"
      ]
     },
     "metadata": {},
     "output_type": "display_data"
    }
   ],
   "source": [
    "### Load the images and plot them here.\n",
    "### Feel free to use as many code cells as needed.\n",
    "import matplotlib.pyplot as plt\n",
    "import matplotlib.image as mpimg\n",
    "import numpy as np\n",
    "import cv2\n",
    "import math\n",
    "import tensorflow as tf\n",
    "\n",
    "real_set = []\n",
    "for x in range(5):\n",
    "    \n",
    "    img = mpimg.imread(\"images/\"+str(x)+\".jpg\")\n",
    "    img = cv2.resize(img, (32,32), interpolation = cv2.INTER_AREA)\n",
    "    plt.figure(figsize=(1,1))\n",
    "    plt.imshow(img)\n",
    "    plt.show()\n",
    "\n",
    "    real_set.append(cv2.cvtColor(img,cv2.COLOR_BGR2YUV))\n",
    "real_set = np.array(real_set,dtype=np.float32)[:,:,:,0:1]"
   ]
  },
  {
   "cell_type": "markdown",
   "metadata": {},
   "source": [
    "### Question 6\n",
    "\n",
    "_Choose five candidate images of traffic signs and provide them in the report. Are there any particular qualities of the image(s) that might make classification difficult? It could be helpful to plot the images in the notebook._\n",
    "\n"
   ]
  },
  {
   "cell_type": "markdown",
   "metadata": {},
   "source": [
    "**Answer:**\n",
    "\n",
    "The images have been taken from standard Indian roads. The quality reduction caused due to downsampling of the resolution has reduced the quality of the images as well. This could pose a problem for the model as it has been trained on smooth and relatively sharp images.\n",
    "- Image 1 - Children crossing\n",
    "- Image 2 - Heavy vehicle (not in dataset but similar to label 10 and 16 for vehicles over 3.5 metric tonnes)\n",
    "- Image 3 - Right turn ahead (very different from the circular image we have for the same label in dataset)\n",
    "- Image 4 - No horn (not in the dataset)\n",
    "- Image 5 - No parking (not in the dataset)"
   ]
  },
  {
   "cell_type": "code",
   "execution_count": 15,
   "metadata": {
    "collapsed": false
   },
   "outputs": [
    {
     "name": "stdout",
     "output_type": "stream",
     "text": [
      "Tensor(\"Placeholder_3:0\", shape=(?, 32, 32, 1), dtype=float32)\n",
      "[21  9 37 13 19]\n"
     ]
    }
   ],
   "source": [
    "### Run the predictions here.\n",
    "### Feel free to use as many code cells as needed.\n",
    "# keep_prob = tf.placeholder(tf.float32) # probability to keep units\n",
    "y = tf.placeholder(tf.float32, (None, 32, 32,1))\n",
    "logs = LeNet(y)\n",
    "print(y)\n",
    "predictions = tf.argmax(logs,1)\n",
    "softmax_prob = tf.nn.top_k(logs,k=3)\n",
    "saver = tf.train.Saver({\"w1\": conv1_W,\"b1\": conv1_b,\"w2\": conv2_W,\"b2\": conv2_b,\"w3\": fc1_W,\"b3\": fc1_b,\"w4\": fc3_W,\"b4\": fc3_b})\n",
    "with tf.Session() as sess:\n",
    "#     sess.run(tf.global_variables_initializer())\n",
    "    saver.restore(sess,os.getcwd()+'/tmp/model.ckpt')\n",
    "    pre = sess.run([predictions],feed_dict={y:real_set , keep_prob:1})\n",
    "    print(pre[0])"
   ]
  },
  {
   "cell_type": "markdown",
   "metadata": {},
   "source": [
    "### Question 7\n",
    "\n",
    "_Is your model able to perform equally well on captured pictures when compared to testing on the dataset? The simplest way to do this check the accuracy of the predictions. For example, if the model predicted 1 out of 5 signs correctly, it's 20% accurate._\n",
    "\n",
    "_**NOTE:** You could check the accuracy manually by using `signnames.csv` (same directory). This file has a mapping from the class id (0-42) to the corresponding sign name. So, you could take the class id the model outputs, lookup the name in `signnames.csv` and see if it matches the sign from the image._\n"
   ]
  },
  {
   "cell_type": "markdown",
   "metadata": {},
   "source": [
    "**Answer:** \n",
    "\n",
    "No, the accuracy for 5 different Indian traffic signs came out to be 20%, with only a children crossing sign having been identified correctly. \n",
    "There are several reasons for this that have more to do with the data than the model itself.\n",
    "- The images are much more coarse and unrefined than the dataset images. I tried using Gaussian filters, pyramid_reductions, etc, but the images are simply of lower quality. \n",
    "- None of the signs I captured on Indian roads are in the training dataset. Even the children crossing prediction of the model was on an image that looks quite different from the original one on which the model actually trained. If anything this shows how generalized the model has become at making right predictions on even some seemingly different images of the same label. "
   ]
  },
  {
   "cell_type": "code",
   "execution_count": 16,
   "metadata": {
    "collapsed": false
   },
   "outputs": [
    {
     "name": "stdout",
     "output_type": "stream",
     "text": [
      "[TopKV2(values=array([[ 5137.28027344,  3222.84741211,  2964.04150391],\n",
      "       [ 7110.57958984,  3942.02807617,  3540.84448242],\n",
      "       [ 2830.62890625,  2535.16137695,  2533.3203125 ],\n",
      "       [ 4338.48046875,  3968.43359375,  3109.31079102],\n",
      "       [ 3582.27050781,  2499.2097168 ,  2164.67089844]], dtype=float32), indices=array([[21, 11, 28],\n",
      "       [ 9, 13, 16],\n",
      "       [37, 21, 11],\n",
      "       [13,  2,  1],\n",
      "       [19, 13, 21]], dtype=int32))]\n"
     ]
    }
   ],
   "source": [
    "### Visualize the softmax probabilities here.\n",
    "### Feel free to use as many code cells as needed.\n",
    "with tf.Session() as sess:\n",
    "#     sess.run(tf.global_variables_initializer())\n",
    "    saver.restore(sess,os.getcwd()+'/tmp/model.ckpt')\n",
    "    prob = sess.run([softmax_prob],feed_dict={y:real_set , keep_prob:1})\n",
    "    print(prob)"
   ]
  },
  {
   "cell_type": "markdown",
   "metadata": {},
   "source": [
    "### Question 8\n",
    "\n",
    "*Use the model's softmax probabilities to visualize the **certainty** of its predictions, [`tf.nn.top_k`](https://www.tensorflow.org/versions/r0.12/api_docs/python/nn.html#top_k) could prove helpful here. Which predictions is the model certain of? Uncertain? If the model was incorrect in its initial prediction, does the correct prediction appear in the top k? (k should be 5 at most)*\n",
    "\n",
    "`tf.nn.top_k` will return the values and indices (class ids) of the top k predictions. So if k=3, for each sign, it'll return the 3 largest probabilities (out of a possible 43) and the correspoding class ids.\n",
    "\n",
    "Take this numpy array as an example:\n",
    "\n",
    "```\n",
    "# (5, 6) array\n",
    "a = np.array([[ 0.24879643,  0.07032244,  0.12641572,  0.34763842,  0.07893497,\n",
    "         0.12789202],\n",
    "       [ 0.28086119,  0.27569815,  0.08594638,  0.0178669 ,  0.18063401,\n",
    "         0.15899337],\n",
    "       [ 0.26076848,  0.23664738,  0.08020603,  0.07001922,  0.1134371 ,\n",
    "         0.23892179],\n",
    "       [ 0.11943333,  0.29198961,  0.02605103,  0.26234032,  0.1351348 ,\n",
    "         0.16505091],\n",
    "       [ 0.09561176,  0.34396535,  0.0643941 ,  0.16240774,  0.24206137,\n",
    "         0.09155967]])\n",
    "```\n",
    "\n",
    "Running it through `sess.run(tf.nn.top_k(tf.constant(a), k=3))` produces:\n",
    "\n",
    "```\n",
    "TopKV2(values=array([[ 0.34763842,  0.24879643,  0.12789202],\n",
    "       [ 0.28086119,  0.27569815,  0.18063401],\n",
    "       [ 0.26076848,  0.23892179,  0.23664738],\n",
    "       [ 0.29198961,  0.26234032,  0.16505091],\n",
    "       [ 0.34396535,  0.24206137,  0.16240774]]), indices=array([[3, 0, 5],\n",
    "       [0, 1, 4],\n",
    "       [0, 5, 1],\n",
    "       [1, 3, 5],\n",
    "       [1, 4, 3]], dtype=int32))\n",
    "```\n",
    "\n",
    "Looking just at the first row we get `[ 0.34763842,  0.24879643,  0.12789202]`, you can confirm these are the 3 largest probabilities in `a`. You'll also notice `[3, 0, 5]` are the corresponding indices."
   ]
  },
  {
   "cell_type": "markdown",
   "metadata": {},
   "source": [
    "**Answer:**\n",
    "\n",
    "Using the tf.nn.top_k function to get secondary predictions, the model did have an uncertain-yet-correct prediction of the second image i.e the heavy vehicles. This was probably the most unclear image in the dataset, and yet the model's prediction gets it somewhat right. Image 3 was very different from its couterparts in the training dataset, and Image 4 and 5 didn't even have respective labels in the dataset. "
   ]
  },
  {
   "cell_type": "markdown",
   "metadata": {},
   "source": [
    "> **Note**: Once you have completed all of the code implementations and successfully answered each question above, you may finalize your work by exporting the iPython Notebook as an HTML document. You can do this by using the menu above and navigating to  \\n\",\n",
    "    \"**File -> Download as -> HTML (.html)**. Include the finished document along with this notebook as your submission."
   ]
  }
 ],
 "metadata": {
  "anaconda-cloud": {},
  "kernelspec": {
   "display_name": "Python [default]",
   "language": "python",
   "name": "python3"
  },
  "language_info": {
   "codemirror_mode": {
    "name": "ipython",
    "version": 3
   },
   "file_extension": ".py",
   "mimetype": "text/x-python",
   "name": "python",
   "nbconvert_exporter": "python",
   "pygments_lexer": "ipython3",
   "version": "3.5.2"
  }
 },
 "nbformat": 4,
 "nbformat_minor": 1
}
